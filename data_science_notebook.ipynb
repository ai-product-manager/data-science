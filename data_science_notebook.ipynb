{
  "nbformat": 4,
  "nbformat_minor": 0,
  "metadata": {
    "colab": {
      "provenance": [],
      "toc_visible": true,
      "authorship_tag": "ABX9TyOnvFgnArjUoeGuK5iM64i+",
      "include_colab_link": true
    },
    "kernelspec": {
      "name": "python3",
      "display_name": "Python 3"
    },
    "language_info": {
      "name": "python"
    }
  },
  "cells": [
    {
      "cell_type": "markdown",
      "metadata": {
        "id": "view-in-github",
        "colab_type": "text"
      },
      "source": [
        "<a href=\"https://colab.research.google.com/github/ai-product-manager/data-science/blob/main/data_science_notebook.ipynb\" target=\"_parent\"><img src=\"https://colab.research.google.com/assets/colab-badge.svg\" alt=\"Open In Colab\"/></a>"
      ]
    },
    {
      "cell_type": "markdown",
      "source": [
        "## Ingest"
      ],
      "metadata": {
        "id": "8u9o7I-UlijW"
      }
    },
    {
      "cell_type": "code",
      "execution_count": null,
      "metadata": {
        "id": "0x7u4oe0lUpQ"
      },
      "outputs": [],
      "source": []
    },
    {
      "cell_type": "markdown",
      "source": [
        "## EDA"
      ],
      "metadata": {
        "id": "SgGHSkkHl4Sj"
      }
    },
    {
      "cell_type": "code",
      "source": [],
      "metadata": {
        "id": "ilhkCSh9l5Cr"
      },
      "execution_count": null,
      "outputs": []
    },
    {
      "cell_type": "markdown",
      "source": [
        "## Modeling"
      ],
      "metadata": {
        "id": "VroE864Yl5mO"
      }
    },
    {
      "cell_type": "markdown",
      "source": [
        "### Classification Algorithm"
      ],
      "metadata": {
        "id": "dSfGlD6W03x9"
      }
    },
    {
      "cell_type": "code",
      "source": [],
      "metadata": {
        "id": "lYfNi2OPl6pt"
      },
      "execution_count": null,
      "outputs": []
    },
    {
      "cell_type": "markdown",
      "source": [
        "## Conclusion"
      ],
      "metadata": {
        "id": "xzW01N1-l7b8"
      }
    },
    {
      "cell_type": "code",
      "source": [],
      "metadata": {
        "id": "PhIReLewl841"
      },
      "execution_count": null,
      "outputs": []
    }
  ]
}